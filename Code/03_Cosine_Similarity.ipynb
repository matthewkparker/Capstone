{
 "cells": [
  {
   "cell_type": "markdown",
   "metadata": {},
   "source": [
    "## Cosine Similarity\n",
    "- The Goal of this notebook is to actually \"Recommend\" movies to a user based on their previous reviews. This process is done by using Cosine Similarity. Cosine similarity in layman's terms determines how similar two vectors are. In this case, I am using cosine similarity to determine how similar a single user's review is to other users. This notebook will be going in depth on how this process is done"
   ]
  },
  {
   "cell_type": "code",
   "execution_count": 3,
   "metadata": {},
   "outputs": [],
   "source": [
    "import pandas as pd\n",
    "import numpy as np\n",
    "from sqlalchemy import create_engine\n",
    "from sklearn.metrics.pairwise import cosine_similarity"
   ]
  },
  {
   "cell_type": "markdown",
   "metadata": {},
   "source": [
    "- These cells create the connection to the postgres SQL server created in the Preprocessing notebook. The query being run is simply pulls every single columns, which is every movie, and every users review for each movie, and loads it into a Pandas data frame\n",
    "- Note: The password and IP address are not provided with this project. I recommend loading a saved csv file that should have been created after the preprocessing notebook."
   ]
  },
  {
   "cell_type": "code",
   "execution_count": 4,
   "metadata": {},
   "outputs": [],
   "source": [
    "engine = create_engine('postgres://postgres:password@IP_address:5432/postgres')"
   ]
  },
  {
   "cell_type": "code",
   "execution_count": 5,
   "metadata": {},
   "outputs": [],
   "source": [
    "query = \"\"\"\n",
    "SELECT * FROM raw_user\"\"\"\n",
    "all_users = pd.read_sql(query,engine,index_col='user_id')"
   ]
  },
  {
   "cell_type": "markdown",
   "metadata": {},
   "source": [
    "- Because Panda data frames are very memory intensive, this cell create a numpy matrix of all of the review data. This cell also creates dictionaries of the user id's and movies titles, and their location in the numpy matrix."
   ]
  },
  {
   "cell_type": "code",
   "execution_count": 4,
   "metadata": {},
   "outputs": [],
   "source": [
    "all_user_index = dict(zip(all_users.index,range(all_users.shape[0])))\n",
    "all_user_columns = dict(zip(all_users.columns,range(all_users.shape[1])))\n",
    "data_mat = np.asarray(all_users)\n",
    "del all_users"
   ]
  },
  {
   "cell_type": "markdown",
   "metadata": {},
   "source": [
    "This function is what is doing the recommendation through several steps.\n",
    " - Step 1: Step 1 generates a SQL query based on the user_id provided by the user. The query then pulls all of the review data from the user specified, and creates a panda data frame.\n",
    " - Step 2: Step 2 creates a list of movies that the user has seen and reviewed. This list is important if we want to recommend movies that the user has not seen yet\n",
    " - Step 3: Step 3 Is where the cosine similarity calculation happens. The variable similarity is a Pandas data frame of each user cosine similarity to the user. Because a user is going to be most similar with itself, the row in the data frame for the user's similarity with itself is dropped\n",
    " - Step 4: Step 4 then pulls the top n users from the index based on the ones that have the highest cosine similarity to the user being queried. n users is determined when calling the function\n",
    " - Step 5: Step 5 is a for loop that iterates through the users that were determined to be similar to the user being queried in step 3, and creates a data frame for each user that contains their reviews for every movie.\n",
    " - Step 6: This final step has two options. The function can return the average of all of the similar users scores for every movie, including movies that the user has already seen, and then sorts then in descending order, presenting the most recommended movies first, or it can return the same results, but exclude movies that the user has seen. By default, this movie returns recommendations for movies which can include movies that the user has seen before."
   ]
  },
  {
   "cell_type": "code",
   "execution_count": 5,
   "metadata": {},
   "outputs": [],
   "source": [
    "def cosine_for_user(user_id,num_of_sim_users= 10,return_watched = True):\n",
    "    #Step 1:\n",
    "    query = \"\"\"\n",
    "    SELECT * FROM raw_user\n",
    "    WHERE user_id = \"\"\" + str(user_id)\n",
    "    user_df = pd.read_sql(query,engine,index_col='user_id',columns=all_user_columns)\n",
    "    #Step 2\n",
    "    unwatched = []\n",
    "    for column in user_df.columns:\n",
    "        if float(user_df[column]) != 0:\n",
    "            unwatched.append(column)\n",
    "    #Step 3\n",
    "    similarity = pd.DataFrame(cosine_similarity(user_df,data_mat),index = [\"similar_users\"],columns=all_user_index.keys()).T\n",
    "    similarity.drop(index = user_id,inplace = True)\n",
    "    #Step 4\n",
    "    top_similar = similarity.sort_values('similar_users',ascending=False).index[0:num_of_sim_users]\n",
    "    #Step 5\n",
    "    user_data = []\n",
    "    for user in top_similar:\n",
    "        user_data.append(pd.DataFrame(data_mat[all_user_index[user]],index=all_user_columns.keys(),columns = [\"movies\"]))\n",
    "    #Step 6\n",
    "    if return_watched == True:\n",
    "        recomendations_watched = (sum(user_data)/num_of_sim_users).sort_values('movies',ascending = False)\n",
    "        return recomendations_watched\n",
    "    else:\n",
    "        recomendations_unwached = (sum(user_data)/num_of_sim_users).sort_values('movies',ascending = False).drop(index = unwatched)\n",
    "        return recomendations_unwached"
   ]
  },
  {
   "cell_type": "markdown",
   "metadata": {},
   "source": [
    "- This cell demonstrates the end result of the function above. According to the function created above, these are the top 5 movie that are recommended for user 7 based on the preferences of other users."
   ]
  },
  {
   "cell_type": "code",
   "execution_count": 6,
   "metadata": {},
   "outputs": [
    {
     "data": {
      "text/html": [
       "<div>\n",
       "<style scoped>\n",
       "    .dataframe tbody tr th:only-of-type {\n",
       "        vertical-align: middle;\n",
       "    }\n",
       "\n",
       "    .dataframe tbody tr th {\n",
       "        vertical-align: top;\n",
       "    }\n",
       "\n",
       "    .dataframe thead th {\n",
       "        text-align: right;\n",
       "    }\n",
       "</style>\n",
       "<table border=\"1\" class=\"dataframe\">\n",
       "  <thead>\n",
       "    <tr style=\"text-align: right;\">\n",
       "      <th></th>\n",
       "      <th>movies</th>\n",
       "    </tr>\n",
       "  </thead>\n",
       "  <tbody>\n",
       "    <tr>\n",
       "      <th>Terms of Endearment</th>\n",
       "      <td>0.905490</td>\n",
       "    </tr>\n",
       "    <tr>\n",
       "      <th>The Big Chill</th>\n",
       "      <td>0.874393</td>\n",
       "    </tr>\n",
       "    <tr>\n",
       "      <th>Good Morning</th>\n",
       "      <td>0.834938</td>\n",
       "    </tr>\n",
       "    <tr>\n",
       "      <th>As Good as It Gets</th>\n",
       "      <td>0.833926</td>\n",
       "    </tr>\n",
       "    <tr>\n",
       "      <th>Thelma &amp; Louise: Special Edition</th>\n",
       "      <td>0.787187</td>\n",
       "    </tr>\n",
       "  </tbody>\n",
       "</table>\n",
       "</div>"
      ],
      "text/plain": [
       "                                    movies\n",
       "Terms of Endearment               0.905490\n",
       "The Big Chill                     0.874393\n",
       "Good Morning                      0.834938\n",
       "As Good as It Gets                0.833926\n",
       "Thelma & Louise: Special Edition  0.787187"
      ]
     },
     "execution_count": 6,
     "metadata": {},
     "output_type": "execute_result"
    }
   ],
   "source": [
    "user_7 = cosine_for_user(7,num_of_sim_users=10)\n",
    "user_7.head()"
   ]
  },
  {
   "cell_type": "code",
   "execution_count": 9,
   "metadata": {},
   "outputs": [
    {
     "data": {
      "text/html": [
       "<div>\n",
       "<style scoped>\n",
       "    .dataframe tbody tr th:only-of-type {\n",
       "        vertical-align: middle;\n",
       "    }\n",
       "\n",
       "    .dataframe tbody tr th {\n",
       "        vertical-align: top;\n",
       "    }\n",
       "\n",
       "    .dataframe thead th {\n",
       "        text-align: right;\n",
       "    }\n",
       "</style>\n",
       "<table border=\"1\" class=\"dataframe\">\n",
       "  <thead>\n",
       "    <tr style=\"text-align: right;\">\n",
       "      <th></th>\n",
       "      <th>movies</th>\n",
       "    </tr>\n",
       "  </thead>\n",
       "  <tbody>\n",
       "    <tr>\n",
       "      <th>Sleepless in Seattle</th>\n",
       "      <td>1.113931</td>\n",
       "    </tr>\n",
       "    <tr>\n",
       "      <th>Sister Act 2: Back in the Habit</th>\n",
       "      <td>1.035549</td>\n",
       "    </tr>\n",
       "    <tr>\n",
       "      <th>Three Men and a Baby</th>\n",
       "      <td>0.949249</td>\n",
       "    </tr>\n",
       "    <tr>\n",
       "      <th>The First Wives Club</th>\n",
       "      <td>0.944583</td>\n",
       "    </tr>\n",
       "    <tr>\n",
       "      <th>Titanic</th>\n",
       "      <td>0.917973</td>\n",
       "    </tr>\n",
       "  </tbody>\n",
       "</table>\n",
       "</div>"
      ],
      "text/plain": [
       "                                   movies\n",
       "Sleepless in Seattle             1.113931\n",
       "Sister Act 2: Back in the Habit  1.035549\n",
       "Three Men and a Baby             0.949249\n",
       "The First Wives Club             0.944583\n",
       "Titanic                          0.917973"
      ]
     },
     "execution_count": 9,
     "metadata": {},
     "output_type": "execute_result"
    }
   ],
   "source": [
    "user_79 = cosine_for_user(79,num_of_sim_users=10)\n",
    "user_79.head()"
   ]
  }
 ],
 "metadata": {
  "kernelspec": {
   "display_name": "Python 3",
   "language": "python",
   "name": "python3"
  },
  "language_info": {
   "codemirror_mode": {
    "name": "ipython",
    "version": 3
   },
   "file_extension": ".py",
   "mimetype": "text/x-python",
   "name": "python",
   "nbconvert_exporter": "python",
   "pygments_lexer": "ipython3",
   "version": "3.6.4"
  }
 },
 "nbformat": 4,
 "nbformat_minor": 2
}
